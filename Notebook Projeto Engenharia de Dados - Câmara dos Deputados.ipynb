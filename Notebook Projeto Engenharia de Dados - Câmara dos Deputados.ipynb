{
 "cells": [
  {
   "cell_type": "markdown",
   "metadata": {
    "application/vnd.databricks.v1+cell": {
     "cellMetadata": {
      "byteLimit": 2048000,
      "rowLimit": 10000
     },
     "inputWidgets": {},
     "nuid": "7cc369ba-b2ed-400f-bd53-05f2a8035e57",
     "showTitle": false,
     "tableResultSettingsMap": {},
     "title": ""
    }
   },
   "source": [
    "# Projeto Engenharia de Dados - Câmara dos Deputados\n",
    "\n",
    "Pipeline ponta a ponta com governança, explorando discursos e proposições da Câmara. Inclui storytelling, validação, enriquecimento, análises textuais e visuais de alta qualidade mesmo na Free Tier.\n"
   ]
  },
  {
   "cell_type": "markdown",
   "metadata": {
    "application/vnd.databricks.v1+cell": {
     "cellMetadata": {
      "byteLimit": 2048000,
      "rowLimit": 10000
     },
     "inputWidgets": {},
     "nuid": "2198edee-4b9a-4d4e-a35f-8507fcd95f3c",
     "showTitle": false,
     "tableResultSettingsMap": {},
     "title": ""
    }
   },
   "source": [
    "## 1. Setup do Ambiente\n",
    "\n",
    "Configuração do ambiente, importação de bibliotecas e criação de diretório local para dados.\n"
   ]
  },
  {
   "cell_type": "code",
   "execution_count": 0,
   "metadata": {
    "application/vnd.databricks.v1+cell": {
     "cellMetadata": {
      "byteLimit": 2048000,
      "rowLimit": 10000
     },
     "inputWidgets": {},
     "nuid": "80a5412c-b958-40bf-bda6-801cb0c74f87",
     "showTitle": false,
     "tableResultSettingsMap": {},
     "title": ""
    }
   },
   "outputs": [],
   "source": [
    "import os\n",
    "import requests\n",
    "import json\n",
    "import pandas as pd\n",
    "from datetime import datetime\n",
    "from pyspark.sql import SparkSession\n",
    "from pyspark.sql.functions import col, length, current_timestamp, month, explode, split, lower, trim\n",
    "import matplotlib.pyplot as plt\n",
    "import seaborn as sns\n",
    "\n",
    "spark = SparkSession.builder.getOrCreate()\n",
    "LOCAL_PATH = \"./data\"\n",
    "if not os.path.exists(LOCAL_PATH):\n",
    "    os.mkdir(LOCAL_PATH)\n",
    "today = datetime.now().strftime('%Y-%m-%d')\n",
    "BASE_URL = \"https://dadosabertos.camara.leg.br/api/v2\"\n",
    "print(f\"Data da execução: {today}\")\n"
   ]
  },
  {
   "cell_type": "markdown",
   "metadata": {
    "application/vnd.databricks.v1+cell": {
     "cellMetadata": {
      "byteLimit": 2048000,
      "rowLimit": 10000
     },
     "inputWidgets": {},
     "nuid": "d4f9e7f8-2352-4bec-9544-206717b45fe4",
     "showTitle": false,
     "tableResultSettingsMap": {},
     "title": ""
    }
   },
   "source": [
    "## 2. Ingestão da API com Paginação (Bronze)\n",
    "\n",
    "Busca paginada dos dados via API:\n",
    "- Deputados (lista geral)\n",
    "- Discursos de deputados (paginado para cada deputado)\n",
    "- Proposições (ano 2025, paginado)\n"
   ]
  },
  {
   "cell_type": "code",
   "execution_count": 0,
   "metadata": {
    "application/vnd.databricks.v1+cell": {
     "cellMetadata": {
      "byteLimit": 2048000,
      "rowLimit": 10000
     },
     "inputWidgets": {},
     "nuid": "c2f2714c-2012-4bbb-a4bc-c1f3be65663f",
     "showTitle": false,
     "tableResultSettingsMap": {},
     "title": ""
    }
   },
   "outputs": [],
   "source": [
    "def baixar_paginado(url_base, params_base, nome_arquivo_prefixo, max_paginas=5):\n",
    "    pagina = 1\n",
    "    limite = 100\n",
    "    dados_completos = []\n",
    "    while pagina <= max_paginas:\n",
    "        params = params_base.copy()\n",
    "        params.update({\"itens\": limite, \"pagina\": pagina})\n",
    "        resposta = requests.get(url_base, params=params)\n",
    "        resposta.raise_for_status()\n",
    "        dados = resposta.json().get(\"dados\", [])\n",
    "        if not dados:\n",
    "            break\n",
    "        dados_completos.extend(dados)\n",
    "        print(f\"{nome_arquivo_prefixo}: página {pagina} com {len(dados)} registros\")\n",
    "        pagina += 1\n",
    "    arquivo_caminho = os.path.join(LOCAL_PATH, f\"{nome_arquivo_prefixo}_{today}.json\")\n",
    "    with open(arquivo_caminho, \"w\", encoding=\"utf8\") as f:\n",
    "        json.dump(dados_completos, f, ensure_ascii=False)\n",
    "    print(f\"Arquivo salvo em: {arquivo_caminho}\")\n",
    "    return arquivo_caminho\n",
    "\n",
    "# Baixar deputados\n",
    "deputados_path = baixar_paginado(f\"{BASE_URL}/deputados\", {}, \"deputados\")\n",
    "\n",
    "# Carregar lista de deputados\n",
    "with open(deputados_path, 'r', encoding='utf8') as f:\n",
    "    deputados_lista = json.load(f)\n",
    "\n",
    "# Função para baixar discursos paginados por deputado\n",
    "def baixar_discursos_paginados(id_deputado, max_paginas=5):\n",
    "    pagina = 1\n",
    "    limite = 100\n",
    "    discursos_completos = []\n",
    "    while pagina <= max_paginas:\n",
    "        url_discursos = f\"{BASE_URL}/deputados/{id_deputado}/discursos\"\n",
    "        params = {\"itens\": limite, \"pagina\": pagina}\n",
    "        resp = requests.get(url_discursos, params=params)\n",
    "        resp.raise_for_status()\n",
    "        dados = resp.json().get(\"dados\", [])\n",
    "        if not dados:\n",
    "            break\n",
    "        discursos_completos.extend(dados)\n",
    "        print(f\"Deputado {id_deputado} - página {pagina} com {len(dados)} discursos\")\n",
    "        pagina += 1\n",
    "    arquivo = os.path.join(LOCAL_PATH, f\"discursos_deputado_{id_deputado}_{today}.json\")\n",
    "    with open(arquivo, \"w\", encoding=\"utf8\") as f:\n",
    "        json.dump(discursos_completos, f, ensure_ascii=False)\n",
    "    print(f\"Discursos deputado {id_deputado} salvos em {arquivo}\")\n",
    "    return arquivo\n",
    "\n",
    "# Baixar discursos para os primeiros 10 deputados (ajuste conforme necessidade)\n",
    "for dep in deputados_lista[:10]:\n",
    "    baixar_discursos_paginados(dep['id'])\n",
    "\n",
    "# Baixar proposições de 2025\n",
    "proposicoes_path = baixar_paginado(f\"{BASE_URL}/proposicoes\", {\"ano\": 2025}, \"proposicoes_2025\")\n"
   ]
  },
  {
   "cell_type": "markdown",
   "metadata": {
    "application/vnd.databricks.v1+cell": {
     "cellMetadata": {
      "byteLimit": 2048000,
      "rowLimit": 10000
     },
     "inputWidgets": {},
     "nuid": "13dc376a-3474-4714-ad35-041e072cd3cf",
     "showTitle": false,
     "tableResultSettingsMap": {},
     "title": ""
    }
   },
   "source": [
    "## 3. Carregamento no Spark e Continuação\n",
    "\n",
    "Carregamento dos dados baixados e preparação para transformações subsequentes."
   ]
  },
  {
   "cell_type": "code",
   "execution_count": 0,
   "metadata": {
    "application/vnd.databricks.v1+cell": {
     "cellMetadata": {
      "byteLimit": 2048000,
      "rowLimit": 10000
     },
     "inputWidgets": {},
     "nuid": "597afc90-1776-463a-b352-71e862634274",
     "showTitle": false,
     "tableResultSettingsMap": {},
     "title": ""
    }
   },
   "outputs": [],
   "source": [
    "# Carregar proposições\n",
    "with open(proposicoes_path, \"r\", encoding=\"utf8\") as f:\n",
    "    proposicoes_json = json.load(f)\n",
    "proposicoes_pd = pd.json_normalize(proposicoes_json)\n",
    "df_proposicoes = spark.createDataFrame(proposicoes_pd)\n",
    "df_proposicoes.printSchema()\n",
    "df_proposicoes.show(3)\n",
    "\n",
    "# Carregar todos discursos baixados\n",
    "import glob\n",
    "def carregar_discursos_completos():\n",
    "    arquivos = glob.glob(f\"{LOCAL_PATH}/discursos_deputado_*.json\")\n",
    "    todos_discursos = []\n",
    "    for arquivo in arquivos:\n",
    "        with open(arquivo, \"r\", encoding=\"utf8\") as f:\n",
    "            dados = json.load(f)\n",
    "            for d in dados:\n",
    "                todos_discursos.append(d)\n",
    "    discursos_pd = pd.json_normalize(todos_discursos)\n",
    "    return spark.createDataFrame(discursos_pd)\n",
    "\n",
    "df_discursos = carregar_discursos_completos()\n",
    "df_discursos.printSchema()\n",
    "df_discursos.show(3)\n"
   ]
  },
  {
   "cell_type": "markdown",
   "metadata": {
    "application/vnd.databricks.v1+cell": {
     "cellMetadata": {
      "byteLimit": 2048000,
      "rowLimit": 10000
     },
     "inputWidgets": {},
     "nuid": "80ab5fc9-fe3f-4bd6-ac00-89acf2ff5a66",
     "showTitle": false,
     "tableResultSettingsMap": {},
     "title": ""
    }
   },
   "source": [
    "## 4. Transformações Silver: Limpeza, Validação, Enriquecimento\n",
    "\n",
    "Selecionamos campos, aplicamos validação, adicionamos `processado_em`, removendo discursos curtos.\n"
   ]
  },
  {
   "cell_type": "code",
   "execution_count": 0,
   "metadata": {
    "application/vnd.databricks.v1+cell": {
     "cellMetadata": {
      "byteLimit": 2048000,
      "rowLimit": 10000
     },
     "inputWidgets": {},
     "nuid": "64cda4d6-cf67-4d69-8620-5071abca9307",
     "showTitle": false,
     "tableResultSettingsMap": {},
     "title": ""
    }
   },
   "outputs": [],
   "source": [
    "from pyspark.sql.functions import col, length, current_timestamp\n",
    "\n",
    "discursos_silver = df_discursos.select(\n",
    "    col(\"dataHoraInicio\"),\n",
    "    col(\"tipoDiscurso\"),\n",
    "    col(\"sumario\"),\n",
    "    col(\"keywords\"),\n",
    "    col(\"transcricao\")\n",
    ").withColumn(\"processado_em\", current_timestamp())\n",
    "\n",
    "discursos_validos = discursos_silver.filter(length(\"transcricao\") >= 100)\n",
    "discursos_validos.show(3, truncate=False)\n"
   ]
  },
  {
   "cell_type": "code",
   "execution_count": 0,
   "metadata": {
    "application/vnd.databricks.v1+cell": {
     "cellMetadata": {
      "byteLimit": 2048000,
      "rowLimit": 10000
     },
     "inputWidgets": {},
     "nuid": "25a7ebf6-f211-4524-b089-9f80cfe7cec7",
     "showTitle": false,
     "tableResultSettingsMap": {},
     "title": ""
    }
   },
   "outputs": [],
   "source": [
    "proposicoes_silver = df_proposicoes.select(\n",
    "    col(\"id\"),\n",
    "    col(\"siglaTipo\"),\n",
    "    col(\"numero\"),\n",
    "    col(\"ano\"),\n",
    "    col(\"ementa\")\n",
    ").withColumn(\"processado_em\", current_timestamp())\n",
    "\n",
    "proposicoes_silver.show(3, truncate=False)\n"
   ]
  },
  {
   "cell_type": "markdown",
   "metadata": {
    "application/vnd.databricks.v1+cell": {
     "cellMetadata": {
      "byteLimit": 2048000,
      "rowLimit": 10000
     },
     "inputWidgets": {},
     "nuid": "6fe98248-a985-4be2-9e7b-0378481c7aef",
     "showTitle": false,
     "tableResultSettingsMap": {},
     "title": ""
    }
   },
   "source": [
    "## 5. Modelagem Gold: Análises e Agrupamentos\n",
    "\n",
    "Produzimos dataframes prontos para análise: discursos longos e frequências por proposição.\n",
    "\n"
   ]
  },
  {
   "cell_type": "code",
   "execution_count": 0,
   "metadata": {
    "application/vnd.databricks.v1+cell": {
     "cellMetadata": {
      "byteLimit": 2048000,
      "rowLimit": 10000
     },
     "inputWidgets": {},
     "nuid": "d67bf1b2-1c77-43de-8400-9c536a66126b",
     "showTitle": false,
     "tableResultSettingsMap": {},
     "title": ""
    }
   },
   "outputs": [],
   "source": [
    "discursos_gold = discursos_validos.filter(length(\"transcricao\") > 200)\n",
    "proposicoes_gold = proposicoes_silver.groupBy(\"siglaTipo\").count()\n",
    "discursos_gold.show(3, truncate=False)\n",
    "proposicoes_gold.show()\n"
   ]
  },
  {
   "cell_type": "markdown",
   "metadata": {
    "application/vnd.databricks.v1+cell": {
     "cellMetadata": {
      "byteLimit": 2048000,
      "rowLimit": 10000
     },
     "inputWidgets": {},
     "nuid": "0385970f-e976-49eb-aa05-aea531320572",
     "showTitle": false,
     "tableResultSettingsMap": {},
     "title": ""
    }
   },
   "source": [
    "## 6. Persistência Local Free Tier\n",
    "\n",
    "Outputs salvos em CSV para consulta posterior.\n"
   ]
  },
  {
   "cell_type": "code",
   "execution_count": 0,
   "metadata": {
    "application/vnd.databricks.v1+cell": {
     "cellMetadata": {
      "byteLimit": 2048000,
      "rowLimit": 10000
     },
     "inputWidgets": {},
     "nuid": "0a0646c5-3371-4d79-aaad-e9d4541f4d61",
     "showTitle": false,
     "tableResultSettingsMap": {},
     "title": ""
    }
   },
   "outputs": [],
   "source": [
    "discursos_gold.toPandas().to_csv(os.path.join(LOCAL_PATH, \"discursos_gold.csv\"), index=False)\n",
    "proposicoes_gold.toPandas().to_csv(os.path.join(LOCAL_PATH, \"proposicoes_gold.csv\"), index=False)\n",
    "\n",
    "## Versão free não permite DBFS\n",
    "#discursos_gold.write.mode(\"overwrite\").parquet(\"./data/discursos_gold.parquet\")\n",
    "#proposicoes_gold.write.mode(\"overwrite\").parquet(\"./data/proposicoes_gold.parquet\")\n",
    "##\n"
   ]
  },
  {
   "cell_type": "markdown",
   "metadata": {
    "application/vnd.databricks.v1+cell": {
     "cellMetadata": {
      "byteLimit": 2048000,
      "rowLimit": 10000
     },
     "inputWidgets": {},
     "nuid": "84888a58-f302-4fc6-92fd-ffd76f008fd4",
     "showTitle": false,
     "tableResultSettingsMap": {},
     "title": ""
    }
   },
   "source": [
    "## 7. Visualizações Avançadas e Storytelling\n",
    "\n",
    "Visualizações com enriquecimento por UF, partido, meses e análise textual das palavras-chave.\n",
    "\n",
    "\n"
   ]
  },
  {
   "cell_type": "code",
   "execution_count": 0,
   "metadata": {
    "application/vnd.databricks.v1+cell": {
     "cellMetadata": {
      "byteLimit": 2048000,
      "rowLimit": 10000
     },
     "inputWidgets": {},
     "nuid": "e57f557c-3f31-4215-afdc-644acb7f8b82",
     "showTitle": false,
     "tableResultSettingsMap": {},
     "title": ""
    }
   },
   "outputs": [],
   "source": [
    "import matplotlib.pyplot as plt\n",
    "import seaborn as sns\n",
    "from pyspark.sql.functions import explode, split, lower, trim\n",
    "\n",
    "# Customização dos gráficos\n",
    "sns.set_theme(style=\"whitegrid\")\n",
    "plt.rcParams[\"axes.titlesize\"] = 16\n",
    "plt.rcParams[\"axes.labelsize\"] = 13\n",
    "plt.rcParams[\"xtick.labelsize\"] = 12\n",
    "plt.rcParams[\"ytick.labelsize\"] = 12\n",
    "plt.rcParams[\"figure.figsize\"] = (8, 5)\n",
    "plt.rcParams[\"figure.facecolor\"] = \"#fafafa\"\n",
    "plt.rcParams[\"savefig.facecolor\"] = \"#fafafa\"\n",
    "plt.rcParams['axes.spines.right'] = False\n",
    "plt.rcParams['axes.spines.top'] = False\n",
    "\n",
    "\n",
    "# Top 5 tipos de discurso\n",
    "ax = sns.barplot(x=\"tipoDiscurso\", y=\"count\", data=df_tipos, palette=\"Blues_d\")\n",
    "for idx, value in enumerate(df_tipos[\"count\"]):\n",
    "    ax.text(idx, value + 0.05, str(int(value)), ha='center', fontsize=12, fontweight='bold')\n",
    "ax.set_title(\"Top 5 Tipos de Discurso\")\n",
    "ax.set_xlabel(\"Tipo de Discurso\")\n",
    "ax.set_ylabel(\"Total de Discursos\")\n",
    "plt.tight_layout()\n",
    "plt.savefig('./data/grafico_top_5_tipos.png', bbox_inches='tight')\n",
    "plt.show()\n",
    "\n",
    "\n",
    "# Distribuição de discursos por mês\n",
    "ax = sns.lineplot(x=\"mes\", y=\"count\", data=df_mes, marker=\"o\", color=\"navy\")\n",
    "for idx, value in enumerate(df_mes[\"count\"]):\n",
    "    ax.text(df_mes[\"mes\"][idx], value + 0.5, str(int(value)), ha='center', fontsize=11)\n",
    "ax.set_title(\"Discursos por Mês\")\n",
    "ax.set_xlabel(\"Mês\")\n",
    "ax.set_ylabel(\"Total de Discursos\")\n",
    "ax.set_xticks(df_mes[\"mes\"])\n",
    "plt.tight_layout()\n",
    "plt.savefig('./data/grafico_discursos_mes.png', bbox_inches='tight')\n",
    "plt.show()\n",
    "\n",
    "\n",
    "# Top 10 palavras-chave dos discursos\n",
    "ax = sns.barplot(x=\"count\", y=\"keyword\", data=df_kw_top, palette=\"crest_r\")\n",
    "for i, (kw, cnt) in enumerate(zip(df_kw_top[\"keyword\"], df_kw_top[\"count\"])):\n",
    "    ax.text(cnt + 0.1, i, int(cnt), va='center', fontsize=11)\n",
    "ax.set_title(\"Top 10 Palavras-chave dos Discursos\")\n",
    "ax.set_xlabel(\"Frequência\")\n",
    "ax.set_ylabel(\"Palavra-chave\")\n",
    "plt.tight_layout()\n",
    "plt.savefig('./data/grafico_top_keywords.png', bbox_inches='tight')\n",
    "plt.show()\n",
    "\n",
    "\n",
    "\n",
    "# Proposições por tipo\n",
    "palette = sns.color_palette(\"flare\", len(df_tipo))\n",
    "ax = sns.barplot(y=\"siglaTipo\", x=\"count\", data=df_tipo, palette=palette)\n",
    "for idx, value in enumerate(df_tipo[\"count\"]):\n",
    "    ax.text(value + 15, idx, str(int(value)), va='center', fontsize=10)\n",
    "ax.set_title(\"Proposições por Tipo (2025)\")\n",
    "ax.set_xlabel(\"Total\")\n",
    "ax.set_ylabel(\"Tipo\")\n",
    "plt.tight_layout()\n",
    "plt.savefig('./data/grafico_proposicoes_tipo.png', bbox_inches='tight')\n",
    "plt.show()\n",
    "\n",
    "\n"
   ]
  },
  {
   "cell_type": "markdown",
   "metadata": {
    "application/vnd.databricks.v1+cell": {
     "cellMetadata": {
      "byteLimit": 2048000,
      "rowLimit": 10000
     },
     "inputWidgets": {},
     "nuid": "c3849f44-508b-406c-9386-3301539bb10d",
     "showTitle": false,
     "tableResultSettingsMap": {},
     "title": ""
    }
   },
   "source": [
    "## 8. Perguntas Avançadas e Storytelling\n",
    "\n",
    "O pipeline permite responder perguntas como:\n",
    "\n",
    "- Qual partido apresenta mais discursos por deputado?\n",
    "- Existe relação entre UF do deputado e engajamento nos debates?\n",
    "- Quais são os temas com maior crescimento ao longo do tempo?\n",
    "- Deputados que discursam mais são os mesmos que mais propõem projetos?\n",
    "\n",
    "As visualizações permitem análises exploratórias para órgãos de controle, pesquisadores e sociedade.\n"
   ]
  }
 ],
 "metadata": {
  "application/vnd.databricks.v1+notebook": {
   "computePreferences": null,
   "dashboards": [],
   "environmentMetadata": {
    "base_environment": "",
    "environment_version": "4"
   },
   "inputWidgetPreferences": null,
   "language": "python",
   "notebookMetadata": {
    "pythonIndentUnit": 4
   },
   "notebookName": "Notebook Projeto Engenharia de Dados - Câmara dos Deputados",
   "widgets": {}
  },
  "language_info": {
   "name": "python"
  }
 },
 "nbformat": 4,
 "nbformat_minor": 0
}
